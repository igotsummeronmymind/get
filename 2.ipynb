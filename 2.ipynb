{
 "cells": [
  {
   "cell_type": "markdown",
   "metadata": {},
   "source": [
    "# Лабораторная работа №2: Решение СЛАУ разными методами. Вариант К \n",
    "## Клименко Виталий, Б01-203"
   ]
  },
  {
   "cell_type": "markdown",
   "metadata": {},
   "source": [
    "1. Имеем систему уравнений вида:\n",
    "\n",
    "$a_{11}x_1 + a_{12}x_2 + ... + a_{1n}x_n = f_1$\n",
    "\n",
    "...\n",
    "\n",
    "$a_{n1}x_1 + a_{n2}x_2 + ... + a_{nn}x_n = f_n$                  \n",
    "\n",
    "причём параметры системы задаются следующим образом:\n",
    "\n",
    "$n = 10$, $a_{ii} = 1$, $a_{ij}=1/(i+j)$, $f_i=1/j$\n"
   ]
  },
  {
   "cell_type": "markdown",
   "metadata": {},
   "source": [
    "В лабораторной работе будут реализованы следующие методы:\n",
    "1) метод Гаусса с выбором главного элемента\n",
    "2) метод LU-разложения (если применим)\n",
    "3) метод Якоби\n",
    "4) метод Зейделя\n",
    "5) метод верхней релаксации"
   ]
  },
  {
   "cell_type": "markdown",
   "metadata": {},
   "source": [
    "Для удобства определим некоторые функции:"
   ]
  },
  {
   "cell_type": "markdown",
   "metadata": {},
   "source": [
    "Произведение скаляра на вектор:"
   ]
  },
  {
   "cell_type": "code",
   "execution_count": 22,
   "metadata": {},
   "outputs": [],
   "source": [
    "def scalar_x_vector_multiplication(scalar, vector):\n",
    "    return [scalar * v for v in vector]"
   ]
  },
  {
   "cell_type": "markdown",
   "metadata": {},
   "source": [
    "Скалярное произведение"
   ]
  },
  {
   "cell_type": "code",
   "execution_count": 23,
   "metadata": {},
   "outputs": [],
   "source": [
    "def dot_product(v1, v2):\n",
    "    return sum(v1[i] * v2[i] for i in range(len(v1)))"
   ]
  },
  {
   "cell_type": "markdown",
   "metadata": {},
   "source": [
    "Разность векторов"
   ]
  },
  {
   "cell_type": "code",
   "execution_count": 24,
   "metadata": {},
   "outputs": [],
   "source": [
    "def vect_diff(v1, v2):\n",
    "    return [v1[i] - v2[i] for i in range(len(v1))]"
   ]
  },
  {
   "cell_type": "markdown",
   "metadata": {},
   "source": [
    "Произведение матрицы и вектора"
   ]
  },
  {
   "cell_type": "code",
   "execution_count": 25,
   "metadata": {},
   "outputs": [],
   "source": [
    "def matrix_x_vector_multiplication(A, x):\n",
    "    return [sum(A[i][j] * x[j] for j in range(len(x))) for i in range(len(A))]"
   ]
  },
  {
   "cell_type": "markdown",
   "metadata": {},
   "source": [
    "## Ход работы"
   ]
  },
  {
   "cell_type": "markdown",
   "metadata": {},
   "source": [
    "# 1. Метод Гаусса"
   ]
  },
  {
   "cell_type": "code",
   "execution_count": 26,
   "metadata": {},
   "outputs": [
    {
     "name": "stdout",
     "output_type": "stream",
     "text": [
      "Решение методом Гаусса:\n",
      "x[1] = 0.919077109266920\n",
      "x[2] = 0.175540170493088\n",
      "x[3] = 0.063934824014441\n",
      "x[4] = 0.027274763960846\n",
      "x[5] = 0.011423468535555\n",
      "x[6] = 0.003510839278717\n",
      "x[7] = -0.000789957813856\n",
      "x[8] = -0.003250801449485\n",
      "x[9] = -0.004697877810512\n",
      "x[10] = -0.005553739941266\n"
     ]
    }
   ],
   "source": [
    "import numpy as np\n",
    "\n",
    "n = 10\n",
    "A = np.zeros((n, n))\n",
    "f = np.zeros(n)\n",
    "\n",
    "# Заполним матрицу A и приведём в соответствие каждому i своё f[i]:\n",
    "for i in range(n):\n",
    "    for j in range(n):\n",
    "        if i == j:\n",
    "            A[i][j] = 1\n",
    "        else:\n",
    "            A[i][j] = 1 / (i + j + 2)\n",
    "    f[i] = 1 / (i + 1)\n",
    "\n",
    "def gauss_elimination(A, f):\n",
    "    n = len(f)\n",
    "    for i in range(n):\n",
    "        max_row_index = np.argmax(np.abs(A[i:, i])) + i\n",
    "        A[[i, max_row_index]] = A[[max_row_index, i]]\n",
    "        f[[i, max_row_index]] = f[[max_row_index, i]]\n",
    "        \n",
    "        for j in range(i + 1, n):\n",
    "            factor = A[j][i] / A[i][i]\n",
    "            A[j] -= factor * A[i]\n",
    "            f[j] -= factor * f[i]\n",
    "    \n",
    "    x = np.zeros(n) # и обратный ход\n",
    "    for i in range(n - 1, -1, -1):\n",
    "        x[i] = (f[i] - np.dot(A[i], x)) / A[i][i]\n",
    "    \n",
    "    return x\n",
    "\n",
    "solution_gauss = gauss_elimination(A.copy(), f.copy())\n",
    "\n",
    "print(\"Решение методом Гаусса:\")\n",
    "for i in range(n):\n",
    "    print(f\"x[{i+1}] = {solution_gauss[i]:.15f}\")"
   ]
  },
  {
   "cell_type": "markdown",
   "metadata": {},
   "source": [
    "# 2. LU разложение"
   ]
  },
  {
   "cell_type": "code",
   "execution_count": 27,
   "metadata": {},
   "outputs": [
    {
     "name": "stdout",
     "output_type": "stream",
     "text": [
      "Решение системы методом LU-разложения:\n",
      "x[1] = 0.919077109266921\n",
      "x[2] = 0.175540170493088\n",
      "x[3] = 0.063934824014441\n",
      "x[4] = 0.027274763960846\n",
      "x[5] = 0.011423468535555\n",
      "x[6] = 0.003510839278717\n",
      "x[7] = -0.000789957813856\n",
      "x[8] = -0.003250801449485\n",
      "x[9] = -0.004697877810512\n",
      "x[10] = -0.005553739941266\n"
     ]
    }
   ],
   "source": [
    "def lu_decomposition(A):\n",
    "    n = len(A)\n",
    "    L = [[0.0] * n for _ in range(n)] #объявляем матрицы\n",
    "    U = [[0.0] * n for _ in range(n)]\n",
    "\n",
    "    for i in range(n): # и заполняем их\n",
    "        for j in range(n):\n",
    "            if i <= j:\n",
    "                U[i][j] = A[i][j]\n",
    "                for k in range(i):\n",
    "                    U[i][j] -= L[i][k] * U[k][j]\n",
    "            else:\n",
    "                L[i][j] = A[i][j]\n",
    "                for k in range(j):\n",
    "                    L[i][j] -= L[i][k] * U[k][j]\n",
    "                L[i][j] /= U[j][j]\n",
    "\n",
    "        L[i][i] = 1.0\n",
    "\n",
    "    return L, U\n",
    "\n",
    "def forward_substitution(L, f):\n",
    "    n = len(L)\n",
    "    y = [0.0] * n\n",
    "    for i in range(n):\n",
    "        y[i] = f[i]\n",
    "        for j in range(i):\n",
    "            y[i] -= L[i][j] * y[j]\n",
    "    return y\n",
    "\n",
    "def backward_substitution(U, y):\n",
    "    n = len(U)\n",
    "    x = [0.0] * n\n",
    "    for i in range(n - 1, -1, -1):\n",
    "        x[i] = y[i]\n",
    "        for j in range(i + 1, n):\n",
    "            x[i] -= U[i][j] * x[j]\n",
    "        x[i] /= U[i][i]\n",
    "    return x\n",
    "\n",
    "L, U = lu_decomposition(A)\n",
    "\n",
    "y = forward_substitution(L, f)\n",
    "\n",
    "solution_LU = backward_substitution(U, y)\n",
    "\n",
    "print(\"Решение системы методом LU-разложения:\")\n",
    "for i in range(n):\n",
    "    print(f\"x[{i+1}] = {solution_LU[i]:.15f}\")"
   ]
  },
  {
   "cell_type": "markdown",
   "metadata": {},
   "source": [
    "# 3. Метод Якоби"
   ]
  },
  {
   "cell_type": "code",
   "execution_count": 28,
   "metadata": {},
   "outputs": [
    {
     "name": "stdout",
     "output_type": "stream",
     "text": [
      "Решения методом Якоби:\n",
      "x[1] = -79903748523087577088.000000000000000\n",
      "x[2] = -73520447180669722624.000000000000000\n",
      "x[3] = -64780838619418566656.000000000000000\n",
      "x[4] = -57411378486998409216.000000000000000\n",
      "x[5] = -51437056283219943424.000000000000000\n",
      "x[6] = -46562062466655150080.000000000000000\n",
      "x[7] = -42526721095012777984.000000000000000\n",
      "x[8] = -39136938117569052672.000000000000000\n",
      "x[9] = -36251020485750505472.000000000000000\n",
      "x[10] = -33764831090874499072.000000000000000\n"
     ]
    }
   ],
   "source": [
    "def jacobi_method(A, f, tol=1e-10, max_iterations=1000):\n",
    "    n = len(f)\n",
    "    x_old = [0.0] * n\n",
    "    residuals = []\n",
    "\n",
    "    for iteration in range(max_iterations):\n",
    "        x_new = [0.0] * n\n",
    "        \n",
    "        for i in range(n):\n",
    "            sum_j = sum(A[i][j] * x_old[j] for j in range(n) if j != i)\n",
    "            x_new[i] = (f[i] - sum_j) / A[i][i]\n",
    "        \n",
    "        r = vect_diff(f, matrix_x_vector_multiplication(A, x_new))\n",
    "        residuals.append((dot_product(r, r)) ** 0.5)\n",
    "\n",
    "        if np.linalg.norm(vect_diff(x_new, x_old)) < tol:\n",
    "            break\n",
    "        \n",
    "        x_old = x_new\n",
    "\n",
    "    return x_new, residuals\n",
    "\n",
    "solution_jacobi, residuals_jacobi = jacobi_method(A.copy(), f.copy())\n",
    "\n",
    "print(\"Решения методом Якоби:\")\n",
    "for i in range(n):\n",
    "    print(f\"x[{i + 1}] = {solution_jacobi[i]:.15f}\")"
   ]
  },
  {
   "cell_type": "markdown",
   "metadata": {},
   "source": [
    "# 4. Метод Зейделя"
   ]
  },
  {
   "cell_type": "code",
   "execution_count": 29,
   "metadata": {},
   "outputs": [
    {
     "name": "stdout",
     "output_type": "stream",
     "text": [
      "Решения методом Зейделя:\n",
      "x[1] = 0.919077109272549\n",
      "x[2] = 0.175540170491198\n",
      "x[3] = 0.063934824012020\n",
      "x[4] = 0.027274763958825\n",
      "x[5] = 0.011423468534075\n",
      "x[6] = 0.003510839277733\n",
      "x[7] = -0.000789957814429\n",
      "x[8] = -0.003250801449735\n",
      "x[9] = -0.004697877810513\n",
      "x[10] = -0.005553739941082\n"
     ]
    }
   ],
   "source": [
    "def seidel_method(A, f, tol=1e-10, max_iterations=1000):\n",
    "    n = len(f)\n",
    "    x_old = [0.0] * n\n",
    "    residuals = []\n",
    "\n",
    "    for iteration in range(max_iterations):\n",
    "        x_new = [0.0] * n\n",
    "        \n",
    "        for i in range(n):\n",
    "            sum_lower = sum(A[i][j] * x_new[j] for j in range(i))\n",
    "            sum_upper = sum(A[i][j] * x_old[j] for j in range(i + 1, n))\n",
    "            x_new[i] = (f[i] - sum_lower - sum_upper) / A[i][i]\n",
    "        \n",
    "        r = vect_diff(f, matrix_x_vector_multiplication(A, x_new))\n",
    "        residuals.append((dot_product(r, r)) ** 0.5)\n",
    "\n",
    "        if np.linalg.norm(vect_diff(x_new, x_old)) < tol:\n",
    "            break\n",
    "        \n",
    "        x_old = x_new\n",
    "\n",
    "    return x_new, residuals\n",
    "\n",
    "solution_seidel, residuals_seidel = seidel_method(A.copy(), f.copy())\n",
    "\n",
    "print(\"Решения методом Зейделя:\")\n",
    "for i in range(n):\n",
    "    print(f\"x[{i + 1}] = {solution_seidel[i]:.15f}\")"
   ]
  },
  {
   "cell_type": "markdown",
   "metadata": {},
   "source": [
    "# 5. Метод верхней релаксации"
   ]
  },
  {
   "cell_type": "code",
   "execution_count": 30,
   "metadata": {},
   "outputs": [
    {
     "name": "stdout",
     "output_type": "stream",
     "text": [
      "Решения методом верхней релаксации:\n",
      "x[1] = 0.919077109318133\n",
      "x[2] = 0.175540170505087\n",
      "x[3] = 0.063934824011258\n",
      "x[4] = 0.027274763952479\n",
      "x[5] = 0.011423468525799\n",
      "x[6] = 0.003510839269152\n",
      "x[7] = -0.000789957822568\n",
      "x[8] = -0.003250801457094\n",
      "x[9] = -0.004697877816961\n",
      "x[10] = -0.005553739946592\n"
     ]
    }
   ],
   "source": [
    "def sor_method(A, f, omega=1.25, tol=1e-10, max_iterations=1000):\n",
    "    n = len(f)\n",
    "    x_old = np.zeros(n)\n",
    "\n",
    "    for iteration in range(max_iterations):\n",
    "        x_new = np.zeros(n)\n",
    "\n",
    "        for i in range(n):\n",
    "            sum_lower = sum(A[i][j] * x_new[j] for j in range(i))\n",
    "            sum_upper = sum(A[i][j] * x_old[j] for j in range(i + 1, n))\n",
    "            x_new[i] = (1 - omega) * x_old[i] + omega * (f[i] - sum_lower - sum_upper) / A[i][i]\n",
    "        \n",
    "        if np.linalg.norm(x_new - x_old, ord=np.inf) < tol:\n",
    "            break\n",
    "        \n",
    "        x_old = x_new\n",
    "    \n",
    "    return x_new\n",
    "\n",
    "\n",
    "solution_sor = sor_method(A.copy(), f.copy())\n",
    "\n",
    "print(\"Решения методом верхней релаксации:\")\n",
    "for i in range(n):\n",
    "    print(f\"x[{i + 1}] = {solution_sor[i]:.15f}\")"
   ]
  },
  {
   "cell_type": "markdown",
   "metadata": {},
   "source": [
    "# 6. Метод градиентного спуска"
   ]
  },
  {
   "cell_type": "code",
   "execution_count": 31,
   "metadata": {},
   "outputs": [
    {
     "name": "stdout",
     "output_type": "stream",
     "text": [
      "Решение системы методом градиентного спуска:\n",
      "x[0] = 0.912922109384645\n",
      "x[1] = 0.179997357621069\n",
      "x[2] = 0.065444721157897\n",
      "x[3] = 0.027959464592362\n",
      "x[4] = 0.011766268286248\n",
      "x[5] = 0.003681449486908\n",
      "x[6] = -0.000716235664510\n",
      "x[7] = -0.003235506962283\n",
      "x[8] = -0.004719449282758\n",
      "x[9] = -0.005599265547197\n"
     ]
    }
   ],
   "source": [
    "def gradient_descent(A, f, alpha=0.01, tol=1e-10, max_iterations=1000):\n",
    "    n = len(f)\n",
    "    x_old = np.zeros(n)\n",
    "\n",
    "    for k in range(max_iterations):\n",
    "        r = f - A @ x_old\n",
    "        grad_f = -A.T @ r\n",
    "        \n",
    "        # Обновление решения\n",
    "        x_new = x_old - alpha * grad_f\n",
    "        \n",
    "        if np.linalg.norm(x_new - x_old) < tol:\n",
    "            break\n",
    "        \n",
    "        x_old = x_new\n",
    "    \n",
    "    return x_new\n",
    "\n",
    "solution_gradient_descent = gradient_descent(A.copy(), f.copy())\n",
    "print(\"Решение системы методом градиентного спуска:\")\n",
    "for i in range(n):\n",
    "    print(f\"x[{i}] = {solution_gradient_descent[i]:.15f}\")"
   ]
  },
  {
   "cell_type": "markdown",
   "metadata": {},
   "source": [
    "# 7. Убытие невязки"
   ]
  },
  {
   "cell_type": "code",
   "execution_count": 32,
   "metadata": {},
   "outputs": [
    {
     "data": {
      "image/png": "[encoded data removed]",
      "text/plain": [
       "<Figure size 1000x600 with 1 Axes>"
      ]
     },
     "metadata": {},
     "output_type": "display_data"
    }
   ],
   "source": [
    "import matplotlib.pyplot as plt\n",
    "\n",
    "# Функция для построения графиков невязки\n",
    "def plot_residuals(residuals_list):\n",
    "    plt.figure(figsize=(10, 6))\n",
    "    \n",
    "    for label, residuals in residuals_list.items():\n",
    "        plt.plot(residuals, marker='o', label=label)\n",
    "\n",
    "    for label, residuals in residuals_list.items():\n",
    "        plt.plot(residuals, label=label)\n",
    "\n",
    "    plt.xlabel('Итерация')\n",
    "    plt.ylabel('Невязка')\n",
    "    plt.title('Убытие невязки')\n",
    "    plt.legend()\n",
    "    plt.grid()\n",
    "    plt.show()\n",
    "\n",
    "# Построение графиков для методов Якоби и Зейделя\n",
    "plot_residuals({\n",
    "   'Якоби': residuals_jacobi,\n",
    "   'Зейдель': residuals_seidel,\n",
    "})"
   ]
  },
  {
   "cell_type": "markdown",
   "metadata": {},
   "source": [
    "# Аналитика результатов:\n",
    "\n",
    "Метод Гаусса, LU-разложения, Зейделя и верхней релаксации дали идентичные результаты. А вот метод Якоби показал другой результат. Могу объяснить это тем, что для данной СЛАУ метод Якоби не сходится, потому что для метода Зейделя, который реализуется похожим образом результат сошёлся."
   ]
  }
 ],
 "metadata": {
  "kernelspec": {
   "display_name": "Python 3",
   "language": "python",
   "name": "python3"
  },
  "language_info": {
   "codemirror_mode": {
    "name": "ipython",
    "version": 3
   },
   "file_extension": ".py",
   "mimetype": "text/x-python",
   "name": "python",
   "nbconvert_exporter": "python",
   "pygments_lexer": "ipython3",
   "version": "3.9.6"
  }
 },
 "nbformat": 4,
 "nbformat_minor": 2
}
